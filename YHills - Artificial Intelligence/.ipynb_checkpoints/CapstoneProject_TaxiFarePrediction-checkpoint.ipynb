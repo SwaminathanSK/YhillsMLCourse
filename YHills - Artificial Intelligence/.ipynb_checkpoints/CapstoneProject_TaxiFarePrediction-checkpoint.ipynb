{
 "cells": [
  {
   "cell_type": "code",
   "execution_count": 1,
   "id": "4690185b",
   "metadata": {},
   "outputs": [],
   "source": [
    "#Basic and most important libraries\n",
    "import pandas as pd\n",
    "import numpy as np\n",
    "from sklearn.preprocessing import StandardScaler , MinMaxScaler\n",
    "from collections import Counter\n",
    "import matplotlib.pyplot as plt\n",
    "import seaborn as sns\n",
    "\n",
    "#Regressors\n",
    "from sklearn.ensemble import AdaBoostRegressor , GradientBoostingRegressor , RandomForestRegressor, BaggingRegressor\n",
    "from sklearn.linear_model import LogisticRegression, LinearRegression\n",
    "from sklearn.tree import DecisionTreeRegressor\n",
    "from sklearn.svm import SVR\n",
    "\n",
    "#Model evaluation tools\n",
    "from sklearn.metrics import classification_report , accuracy_score , confusion_matrix\n",
    "\n",
    "#Data processing functions\n",
    "from sklearn.preprocessing import StandardScaler\n",
    "from sklearn.model_selection import train_test_split\n",
    "from sklearn import model_selection\n",
    "from sklearn.preprocessing import LabelEncoder\n",
    "le = LabelEncoder()\n",
    "\n",
    "import warnings\n",
    "warnings.filterwarnings(\"ignore\")"
   ]
  },
  {
   "cell_type": "code",
   "execution_count": 2,
   "id": "a67e26cd",
   "metadata": {},
   "outputs": [],
   "source": [
    "df = pd.read_csv('https://raw.githubusercontent.com/Premalatha-success/Datasets/main/TaxiFare.csv')"
   ]
  },
  {
   "cell_type": "code",
   "execution_count": 3,
   "id": "fe7bbd8d",
   "metadata": {},
   "outputs": [
    {
     "data": {
      "text/html": [
       "<div>\n",
       "<style scoped>\n",
       "    .dataframe tbody tr th:only-of-type {\n",
       "        vertical-align: middle;\n",
       "    }\n",
       "\n",
       "    .dataframe tbody tr th {\n",
       "        vertical-align: top;\n",
       "    }\n",
       "\n",
       "    .dataframe thead th {\n",
       "        text-align: right;\n",
       "    }\n",
       "</style>\n",
       "<table border=\"1\" class=\"dataframe\">\n",
       "  <thead>\n",
       "    <tr style=\"text-align: right;\">\n",
       "      <th></th>\n",
       "      <th>unique_id</th>\n",
       "      <th>amount</th>\n",
       "      <th>date_time_of_pickup</th>\n",
       "      <th>longitude_of_pickup</th>\n",
       "      <th>latitude_of_pickup</th>\n",
       "      <th>longitude_of_dropoff</th>\n",
       "      <th>latitude_of_dropoff</th>\n",
       "      <th>no_of_passenger</th>\n",
       "    </tr>\n",
       "  </thead>\n",
       "  <tbody>\n",
       "    <tr>\n",
       "      <th>19161</th>\n",
       "      <td>29:00.0</td>\n",
       "      <td>5.3</td>\n",
       "      <td>2012-03-24 14:29:00 UTC</td>\n",
       "      <td>-73.971317</td>\n",
       "      <td>40.760305</td>\n",
       "      <td>-73.964190</td>\n",
       "      <td>40.756515</td>\n",
       "      <td>1</td>\n",
       "    </tr>\n",
       "    <tr>\n",
       "      <th>27588</th>\n",
       "      <td>04:35.0</td>\n",
       "      <td>9.7</td>\n",
       "      <td>2011-05-18 20:04:35 UTC</td>\n",
       "      <td>-73.970443</td>\n",
       "      <td>40.796769</td>\n",
       "      <td>-73.957673</td>\n",
       "      <td>40.774503</td>\n",
       "      <td>1</td>\n",
       "    </tr>\n",
       "    <tr>\n",
       "      <th>28386</th>\n",
       "      <td>26:00.0</td>\n",
       "      <td>9.0</td>\n",
       "      <td>2013-10-05 21:26:00 UTC</td>\n",
       "      <td>-73.975220</td>\n",
       "      <td>40.792527</td>\n",
       "      <td>-73.994075</td>\n",
       "      <td>40.766612</td>\n",
       "      <td>1</td>\n",
       "    </tr>\n",
       "    <tr>\n",
       "      <th>1125</th>\n",
       "      <td>06:00.0</td>\n",
       "      <td>6.1</td>\n",
       "      <td>2012-08-11 10:06:00 UTC</td>\n",
       "      <td>-73.960540</td>\n",
       "      <td>40.775700</td>\n",
       "      <td>-73.975090</td>\n",
       "      <td>40.782598</td>\n",
       "      <td>2</td>\n",
       "    </tr>\n",
       "    <tr>\n",
       "      <th>12937</th>\n",
       "      <td>14:47.0</td>\n",
       "      <td>10.9</td>\n",
       "      <td>2012-05-18 09:14:47 UTC</td>\n",
       "      <td>-73.982978</td>\n",
       "      <td>40.739739</td>\n",
       "      <td>-73.978243</td>\n",
       "      <td>40.762940</td>\n",
       "      <td>1</td>\n",
       "    </tr>\n",
       "    <tr>\n",
       "      <th>41948</th>\n",
       "      <td>56:00.0</td>\n",
       "      <td>6.5</td>\n",
       "      <td>2011-02-17 07:56:00 UTC</td>\n",
       "      <td>-73.955828</td>\n",
       "      <td>40.779555</td>\n",
       "      <td>-73.945513</td>\n",
       "      <td>40.772663</td>\n",
       "      <td>1</td>\n",
       "    </tr>\n",
       "    <tr>\n",
       "      <th>31388</th>\n",
       "      <td>35:00.0</td>\n",
       "      <td>11.0</td>\n",
       "      <td>2013-11-12 19:35:00 UTC</td>\n",
       "      <td>0.000000</td>\n",
       "      <td>0.000000</td>\n",
       "      <td>0.000000</td>\n",
       "      <td>0.000000</td>\n",
       "      <td>4</td>\n",
       "    </tr>\n",
       "    <tr>\n",
       "      <th>18485</th>\n",
       "      <td>00:00.0</td>\n",
       "      <td>8.5</td>\n",
       "      <td>2009-03-23 19:00:00 UTC</td>\n",
       "      <td>-73.997287</td>\n",
       "      <td>40.720615</td>\n",
       "      <td>-74.001347</td>\n",
       "      <td>40.739233</td>\n",
       "      <td>5</td>\n",
       "    </tr>\n",
       "    <tr>\n",
       "      <th>8327</th>\n",
       "      <td>36:00.0</td>\n",
       "      <td>6.0</td>\n",
       "      <td>2014-09-22 16:36:00 UTC</td>\n",
       "      <td>-73.971530</td>\n",
       "      <td>40.763835</td>\n",
       "      <td>-73.960738</td>\n",
       "      <td>40.778222</td>\n",
       "      <td>1</td>\n",
       "    </tr>\n",
       "    <tr>\n",
       "      <th>16695</th>\n",
       "      <td>25:00.0</td>\n",
       "      <td>16.9</td>\n",
       "      <td>2011-05-24 10:25:00 UTC</td>\n",
       "      <td>-74.000512</td>\n",
       "      <td>40.707748</td>\n",
       "      <td>-73.981635</td>\n",
       "      <td>40.747012</td>\n",
       "      <td>1</td>\n",
       "    </tr>\n",
       "    <tr>\n",
       "      <th>38830</th>\n",
       "      <td>56:34.0</td>\n",
       "      <td>24.5</td>\n",
       "      <td>2015-06-02 17:56:34 UTC</td>\n",
       "      <td>-73.958458</td>\n",
       "      <td>40.775650</td>\n",
       "      <td>-73.986656</td>\n",
       "      <td>40.758209</td>\n",
       "      <td>1</td>\n",
       "    </tr>\n",
       "    <tr>\n",
       "      <th>43667</th>\n",
       "      <td>36:00.0</td>\n",
       "      <td>26.0</td>\n",
       "      <td>2014-03-11 14:36:00 UTC</td>\n",
       "      <td>-73.989272</td>\n",
       "      <td>40.739763</td>\n",
       "      <td>-74.012745</td>\n",
       "      <td>40.706333</td>\n",
       "      <td>1</td>\n",
       "    </tr>\n",
       "    <tr>\n",
       "      <th>28402</th>\n",
       "      <td>09:47.0</td>\n",
       "      <td>7.0</td>\n",
       "      <td>2014-02-25 13:09:47 UTC</td>\n",
       "      <td>-73.985612</td>\n",
       "      <td>40.746469</td>\n",
       "      <td>-73.981469</td>\n",
       "      <td>40.734177</td>\n",
       "      <td>1</td>\n",
       "    </tr>\n",
       "    <tr>\n",
       "      <th>23306</th>\n",
       "      <td>31:00.0</td>\n",
       "      <td>3.7</td>\n",
       "      <td>2011-06-08 23:31:00 UTC</td>\n",
       "      <td>-73.981598</td>\n",
       "      <td>40.765390</td>\n",
       "      <td>-73.983560</td>\n",
       "      <td>40.761358</td>\n",
       "      <td>5</td>\n",
       "    </tr>\n",
       "    <tr>\n",
       "      <th>46998</th>\n",
       "      <td>12:00.0</td>\n",
       "      <td>13.0</td>\n",
       "      <td>2013-01-07 09:12:00 UTC</td>\n",
       "      <td>-73.962773</td>\n",
       "      <td>40.766597</td>\n",
       "      <td>-73.996702</td>\n",
       "      <td>40.725477</td>\n",
       "      <td>1</td>\n",
       "    </tr>\n",
       "    <tr>\n",
       "      <th>26483</th>\n",
       "      <td>58:00.0</td>\n",
       "      <td>6.9</td>\n",
       "      <td>2012-01-19 22:58:00 UTC</td>\n",
       "      <td>-73.980115</td>\n",
       "      <td>40.738865</td>\n",
       "      <td>-73.998322</td>\n",
       "      <td>40.719260</td>\n",
       "      <td>3</td>\n",
       "    </tr>\n",
       "    <tr>\n",
       "      <th>4067</th>\n",
       "      <td>43:20.0</td>\n",
       "      <td>4.5</td>\n",
       "      <td>2013-04-21 10:43:20 UTC</td>\n",
       "      <td>-73.987939</td>\n",
       "      <td>40.733564</td>\n",
       "      <td>-73.980185</td>\n",
       "      <td>40.743830</td>\n",
       "      <td>1</td>\n",
       "    </tr>\n",
       "    <tr>\n",
       "      <th>46206</th>\n",
       "      <td>18:28.0</td>\n",
       "      <td>9.3</td>\n",
       "      <td>2012-01-10 15:18:28 UTC</td>\n",
       "      <td>-73.998295</td>\n",
       "      <td>40.724931</td>\n",
       "      <td>-73.986673</td>\n",
       "      <td>40.751422</td>\n",
       "      <td>1</td>\n",
       "    </tr>\n",
       "    <tr>\n",
       "      <th>2867</th>\n",
       "      <td>16:00.0</td>\n",
       "      <td>7.5</td>\n",
       "      <td>2014-01-25 17:16:00 UTC</td>\n",
       "      <td>-74.001397</td>\n",
       "      <td>40.730982</td>\n",
       "      <td>-73.986025</td>\n",
       "      <td>40.730997</td>\n",
       "      <td>1</td>\n",
       "    </tr>\n",
       "    <tr>\n",
       "      <th>37789</th>\n",
       "      <td>46:14.0</td>\n",
       "      <td>7.3</td>\n",
       "      <td>2011-09-08 17:46:14 UTC</td>\n",
       "      <td>-73.967682</td>\n",
       "      <td>40.755998</td>\n",
       "      <td>-73.976447</td>\n",
       "      <td>40.754318</td>\n",
       "      <td>1</td>\n",
       "    </tr>\n",
       "  </tbody>\n",
       "</table>\n",
       "</div>"
      ],
      "text/plain": [
       "      unique_id  amount      date_time_of_pickup  longitude_of_pickup  \\\n",
       "19161   29:00.0     5.3  2012-03-24 14:29:00 UTC           -73.971317   \n",
       "27588   04:35.0     9.7  2011-05-18 20:04:35 UTC           -73.970443   \n",
       "28386   26:00.0     9.0  2013-10-05 21:26:00 UTC           -73.975220   \n",
       "1125    06:00.0     6.1  2012-08-11 10:06:00 UTC           -73.960540   \n",
       "12937   14:47.0    10.9  2012-05-18 09:14:47 UTC           -73.982978   \n",
       "41948   56:00.0     6.5  2011-02-17 07:56:00 UTC           -73.955828   \n",
       "31388   35:00.0    11.0  2013-11-12 19:35:00 UTC             0.000000   \n",
       "18485   00:00.0     8.5  2009-03-23 19:00:00 UTC           -73.997287   \n",
       "8327    36:00.0     6.0  2014-09-22 16:36:00 UTC           -73.971530   \n",
       "16695   25:00.0    16.9  2011-05-24 10:25:00 UTC           -74.000512   \n",
       "38830   56:34.0    24.5  2015-06-02 17:56:34 UTC           -73.958458   \n",
       "43667   36:00.0    26.0  2014-03-11 14:36:00 UTC           -73.989272   \n",
       "28402   09:47.0     7.0  2014-02-25 13:09:47 UTC           -73.985612   \n",
       "23306   31:00.0     3.7  2011-06-08 23:31:00 UTC           -73.981598   \n",
       "46998   12:00.0    13.0  2013-01-07 09:12:00 UTC           -73.962773   \n",
       "26483   58:00.0     6.9  2012-01-19 22:58:00 UTC           -73.980115   \n",
       "4067    43:20.0     4.5  2013-04-21 10:43:20 UTC           -73.987939   \n",
       "46206   18:28.0     9.3  2012-01-10 15:18:28 UTC           -73.998295   \n",
       "2867    16:00.0     7.5  2014-01-25 17:16:00 UTC           -74.001397   \n",
       "37789   46:14.0     7.3  2011-09-08 17:46:14 UTC           -73.967682   \n",
       "\n",
       "       latitude_of_pickup  longitude_of_dropoff  latitude_of_dropoff  \\\n",
       "19161           40.760305            -73.964190            40.756515   \n",
       "27588           40.796769            -73.957673            40.774503   \n",
       "28386           40.792527            -73.994075            40.766612   \n",
       "1125            40.775700            -73.975090            40.782598   \n",
       "12937           40.739739            -73.978243            40.762940   \n",
       "41948           40.779555            -73.945513            40.772663   \n",
       "31388            0.000000              0.000000             0.000000   \n",
       "18485           40.720615            -74.001347            40.739233   \n",
       "8327            40.763835            -73.960738            40.778222   \n",
       "16695           40.707748            -73.981635            40.747012   \n",
       "38830           40.775650            -73.986656            40.758209   \n",
       "43667           40.739763            -74.012745            40.706333   \n",
       "28402           40.746469            -73.981469            40.734177   \n",
       "23306           40.765390            -73.983560            40.761358   \n",
       "46998           40.766597            -73.996702            40.725477   \n",
       "26483           40.738865            -73.998322            40.719260   \n",
       "4067            40.733564            -73.980185            40.743830   \n",
       "46206           40.724931            -73.986673            40.751422   \n",
       "2867            40.730982            -73.986025            40.730997   \n",
       "37789           40.755998            -73.976447            40.754318   \n",
       "\n",
       "       no_of_passenger  \n",
       "19161                1  \n",
       "27588                1  \n",
       "28386                1  \n",
       "1125                 2  \n",
       "12937                1  \n",
       "41948                1  \n",
       "31388                4  \n",
       "18485                5  \n",
       "8327                 1  \n",
       "16695                1  \n",
       "38830                1  \n",
       "43667                1  \n",
       "28402                1  \n",
       "23306                5  \n",
       "46998                1  \n",
       "26483                3  \n",
       "4067                 1  \n",
       "46206                1  \n",
       "2867                 1  \n",
       "37789                1  "
      ]
     },
     "execution_count": 3,
     "metadata": {},
     "output_type": "execute_result"
    }
   ],
   "source": [
    "df.sample(20)"
   ]
  },
  {
   "cell_type": "markdown",
   "id": "2f3cf7d8",
   "metadata": {},
   "source": [
    "#### From this, we observe that the dependent variable is 'amount' and the independent variables are the rest of the features.\n",
    "#### Also, certain features like 'unique_id' are redundant as they are unique for each row and would skew the learning"
   ]
  },
  {
   "cell_type": "code",
   "execution_count": 4,
   "id": "9592fdb9",
   "metadata": {},
   "outputs": [
    {
     "data": {
      "text/plain": [
       "(50000, 8)"
      ]
     },
     "execution_count": 4,
     "metadata": {},
     "output_type": "execute_result"
    }
   ],
   "source": [
    "df.shape"
   ]
  },
  {
   "cell_type": "code",
   "execution_count": 5,
   "id": "e3ade217",
   "metadata": {},
   "outputs": [
    {
     "data": {
      "text/plain": [
       "unique_id                object\n",
       "amount                  float64\n",
       "date_time_of_pickup      object\n",
       "longitude_of_pickup     float64\n",
       "latitude_of_pickup      float64\n",
       "longitude_of_dropoff    float64\n",
       "latitude_of_dropoff     float64\n",
       "no_of_passenger           int64\n",
       "dtype: object"
      ]
     },
     "execution_count": 5,
     "metadata": {},
     "output_type": "execute_result"
    }
   ],
   "source": [
    "df.dtypes"
   ]
  },
  {
   "cell_type": "code",
   "execution_count": 6,
   "id": "31901315",
   "metadata": {},
   "outputs": [
    {
     "data": {
      "text/plain": [
       "unique_id               0\n",
       "amount                  0\n",
       "date_time_of_pickup     0\n",
       "longitude_of_pickup     0\n",
       "latitude_of_pickup      0\n",
       "longitude_of_dropoff    0\n",
       "latitude_of_dropoff     0\n",
       "no_of_passenger         0\n",
       "dtype: int64"
      ]
     },
     "execution_count": 6,
     "metadata": {},
     "output_type": "execute_result"
    }
   ],
   "source": [
    "df.isnull().sum()"
   ]
  },
  {
   "cell_type": "code",
   "execution_count": 7,
   "id": "82282eb1",
   "metadata": {},
   "outputs": [
    {
     "data": {
      "text/html": [
       "<div>\n",
       "<style scoped>\n",
       "    .dataframe tbody tr th:only-of-type {\n",
       "        vertical-align: middle;\n",
       "    }\n",
       "\n",
       "    .dataframe tbody tr th {\n",
       "        vertical-align: top;\n",
       "    }\n",
       "\n",
       "    .dataframe thead th {\n",
       "        text-align: right;\n",
       "    }\n",
       "</style>\n",
       "<table border=\"1\" class=\"dataframe\">\n",
       "  <thead>\n",
       "    <tr style=\"text-align: right;\">\n",
       "      <th></th>\n",
       "      <th>amount</th>\n",
       "      <th>longitude_of_pickup</th>\n",
       "      <th>latitude_of_pickup</th>\n",
       "      <th>longitude_of_dropoff</th>\n",
       "      <th>latitude_of_dropoff</th>\n",
       "      <th>no_of_passenger</th>\n",
       "    </tr>\n",
       "  </thead>\n",
       "  <tbody>\n",
       "    <tr>\n",
       "      <th>count</th>\n",
       "      <td>50000.000000</td>\n",
       "      <td>50000.000000</td>\n",
       "      <td>50000.000000</td>\n",
       "      <td>50000.000000</td>\n",
       "      <td>50000.000000</td>\n",
       "      <td>50000.000000</td>\n",
       "    </tr>\n",
       "    <tr>\n",
       "      <th>mean</th>\n",
       "      <td>11.364171</td>\n",
       "      <td>-72.509756</td>\n",
       "      <td>39.933759</td>\n",
       "      <td>-72.504616</td>\n",
       "      <td>39.926251</td>\n",
       "      <td>1.667840</td>\n",
       "    </tr>\n",
       "    <tr>\n",
       "      <th>std</th>\n",
       "      <td>9.685557</td>\n",
       "      <td>10.393860</td>\n",
       "      <td>6.224857</td>\n",
       "      <td>10.407570</td>\n",
       "      <td>6.014737</td>\n",
       "      <td>1.289195</td>\n",
       "    </tr>\n",
       "    <tr>\n",
       "      <th>min</th>\n",
       "      <td>-5.000000</td>\n",
       "      <td>-75.423848</td>\n",
       "      <td>-74.006893</td>\n",
       "      <td>-84.654241</td>\n",
       "      <td>-74.006377</td>\n",
       "      <td>0.000000</td>\n",
       "    </tr>\n",
       "    <tr>\n",
       "      <th>25%</th>\n",
       "      <td>6.000000</td>\n",
       "      <td>-73.992062</td>\n",
       "      <td>40.734880</td>\n",
       "      <td>-73.991152</td>\n",
       "      <td>40.734372</td>\n",
       "      <td>1.000000</td>\n",
       "    </tr>\n",
       "    <tr>\n",
       "      <th>50%</th>\n",
       "      <td>8.500000</td>\n",
       "      <td>-73.981840</td>\n",
       "      <td>40.752678</td>\n",
       "      <td>-73.980082</td>\n",
       "      <td>40.753372</td>\n",
       "      <td>1.000000</td>\n",
       "    </tr>\n",
       "    <tr>\n",
       "      <th>75%</th>\n",
       "      <td>12.500000</td>\n",
       "      <td>-73.967148</td>\n",
       "      <td>40.767360</td>\n",
       "      <td>-73.963584</td>\n",
       "      <td>40.768167</td>\n",
       "      <td>2.000000</td>\n",
       "    </tr>\n",
       "    <tr>\n",
       "      <th>max</th>\n",
       "      <td>200.000000</td>\n",
       "      <td>40.783472</td>\n",
       "      <td>401.083332</td>\n",
       "      <td>40.851027</td>\n",
       "      <td>43.415190</td>\n",
       "      <td>6.000000</td>\n",
       "    </tr>\n",
       "  </tbody>\n",
       "</table>\n",
       "</div>"
      ],
      "text/plain": [
       "             amount  longitude_of_pickup  latitude_of_pickup  \\\n",
       "count  50000.000000         50000.000000        50000.000000   \n",
       "mean      11.364171           -72.509756           39.933759   \n",
       "std        9.685557            10.393860            6.224857   \n",
       "min       -5.000000           -75.423848          -74.006893   \n",
       "25%        6.000000           -73.992062           40.734880   \n",
       "50%        8.500000           -73.981840           40.752678   \n",
       "75%       12.500000           -73.967148           40.767360   \n",
       "max      200.000000            40.783472          401.083332   \n",
       "\n",
       "       longitude_of_dropoff  latitude_of_dropoff  no_of_passenger  \n",
       "count          50000.000000         50000.000000     50000.000000  \n",
       "mean             -72.504616            39.926251         1.667840  \n",
       "std               10.407570             6.014737         1.289195  \n",
       "min              -84.654241           -74.006377         0.000000  \n",
       "25%              -73.991152            40.734372         1.000000  \n",
       "50%              -73.980082            40.753372         1.000000  \n",
       "75%              -73.963584            40.768167         2.000000  \n",
       "max               40.851027            43.415190         6.000000  "
      ]
     },
     "execution_count": 7,
     "metadata": {},
     "output_type": "execute_result"
    }
   ],
   "source": [
    "df.describe()"
   ]
  },
  {
   "cell_type": "code",
   "execution_count": 8,
   "id": "147800ca",
   "metadata": {},
   "outputs": [
    {
     "name": "stdout",
     "output_type": "stream",
     "text": [
      "<class 'pandas.core.frame.DataFrame'>\n",
      "RangeIndex: 50000 entries, 0 to 49999\n",
      "Data columns (total 8 columns):\n",
      " #   Column                Non-Null Count  Dtype  \n",
      "---  ------                --------------  -----  \n",
      " 0   unique_id             50000 non-null  object \n",
      " 1   amount                50000 non-null  float64\n",
      " 2   date_time_of_pickup   50000 non-null  object \n",
      " 3   longitude_of_pickup   50000 non-null  float64\n",
      " 4   latitude_of_pickup    50000 non-null  float64\n",
      " 5   longitude_of_dropoff  50000 non-null  float64\n",
      " 6   latitude_of_dropoff   50000 non-null  float64\n",
      " 7   no_of_passenger       50000 non-null  int64  \n",
      "dtypes: float64(5), int64(1), object(2)\n",
      "memory usage: 3.1+ MB\n"
     ]
    }
   ],
   "source": [
    "df.info()"
   ]
  },
  {
   "cell_type": "code",
   "execution_count": 9,
   "id": "0f920d79",
   "metadata": {},
   "outputs": [
    {
     "data": {
      "text/html": [
       "<div>\n",
       "<style scoped>\n",
       "    .dataframe tbody tr th:only-of-type {\n",
       "        vertical-align: middle;\n",
       "    }\n",
       "\n",
       "    .dataframe tbody tr th {\n",
       "        vertical-align: top;\n",
       "    }\n",
       "\n",
       "    .dataframe thead th {\n",
       "        text-align: right;\n",
       "    }\n",
       "</style>\n",
       "<table border=\"1\" class=\"dataframe\">\n",
       "  <thead>\n",
       "    <tr style=\"text-align: right;\">\n",
       "      <th></th>\n",
       "      <th>unique_id</th>\n",
       "      <th>amount</th>\n",
       "      <th>date_time_of_pickup</th>\n",
       "      <th>longitude_of_pickup</th>\n",
       "      <th>latitude_of_pickup</th>\n",
       "      <th>longitude_of_dropoff</th>\n",
       "      <th>latitude_of_dropoff</th>\n",
       "      <th>no_of_passenger</th>\n",
       "    </tr>\n",
       "  </thead>\n",
       "  <tbody>\n",
       "    <tr>\n",
       "      <th>0</th>\n",
       "      <td>26:21.0</td>\n",
       "      <td>4.5</td>\n",
       "      <td>2009-06-15 17:26:21 UTC</td>\n",
       "      <td>-73.844311</td>\n",
       "      <td>40.721319</td>\n",
       "      <td>-73.841610</td>\n",
       "      <td>40.712278</td>\n",
       "      <td>1</td>\n",
       "    </tr>\n",
       "    <tr>\n",
       "      <th>1</th>\n",
       "      <td>52:16.0</td>\n",
       "      <td>16.9</td>\n",
       "      <td>2010-01-05 16:52:16 UTC</td>\n",
       "      <td>-74.016048</td>\n",
       "      <td>40.711303</td>\n",
       "      <td>-73.979268</td>\n",
       "      <td>40.782004</td>\n",
       "      <td>1</td>\n",
       "    </tr>\n",
       "    <tr>\n",
       "      <th>2</th>\n",
       "      <td>35:00.0</td>\n",
       "      <td>5.7</td>\n",
       "      <td>2011-08-18 00:35:00 UTC</td>\n",
       "      <td>-73.982738</td>\n",
       "      <td>40.761270</td>\n",
       "      <td>-73.991242</td>\n",
       "      <td>40.750562</td>\n",
       "      <td>2</td>\n",
       "    </tr>\n",
       "    <tr>\n",
       "      <th>3</th>\n",
       "      <td>30:42.0</td>\n",
       "      <td>7.7</td>\n",
       "      <td>2012-04-21 04:30:42 UTC</td>\n",
       "      <td>-73.987130</td>\n",
       "      <td>40.733143</td>\n",
       "      <td>-73.991567</td>\n",
       "      <td>40.758092</td>\n",
       "      <td>1</td>\n",
       "    </tr>\n",
       "    <tr>\n",
       "      <th>4</th>\n",
       "      <td>51:00.0</td>\n",
       "      <td>5.3</td>\n",
       "      <td>2010-03-09 07:51:00 UTC</td>\n",
       "      <td>-73.968095</td>\n",
       "      <td>40.768008</td>\n",
       "      <td>-73.956655</td>\n",
       "      <td>40.783762</td>\n",
       "      <td>1</td>\n",
       "    </tr>\n",
       "  </tbody>\n",
       "</table>\n",
       "</div>"
      ],
      "text/plain": [
       "  unique_id  amount      date_time_of_pickup  longitude_of_pickup  \\\n",
       "0   26:21.0     4.5  2009-06-15 17:26:21 UTC           -73.844311   \n",
       "1   52:16.0    16.9  2010-01-05 16:52:16 UTC           -74.016048   \n",
       "2   35:00.0     5.7  2011-08-18 00:35:00 UTC           -73.982738   \n",
       "3   30:42.0     7.7  2012-04-21 04:30:42 UTC           -73.987130   \n",
       "4   51:00.0     5.3  2010-03-09 07:51:00 UTC           -73.968095   \n",
       "\n",
       "   latitude_of_pickup  longitude_of_dropoff  latitude_of_dropoff  \\\n",
       "0           40.721319            -73.841610            40.712278   \n",
       "1           40.711303            -73.979268            40.782004   \n",
       "2           40.761270            -73.991242            40.750562   \n",
       "3           40.733143            -73.991567            40.758092   \n",
       "4           40.768008            -73.956655            40.783762   \n",
       "\n",
       "   no_of_passenger  \n",
       "0                1  \n",
       "1                1  \n",
       "2                2  \n",
       "3                1  \n",
       "4                1  "
      ]
     },
     "execution_count": 9,
     "metadata": {},
     "output_type": "execute_result"
    }
   ],
   "source": [
    "df.head()"
   ]
  },
  {
   "cell_type": "markdown",
   "id": "a940a784",
   "metadata": {},
   "source": [
    "#### We can observe that there are no null values and all features except unique_id and date_time_of_pickup are numerical. Hence, there will be no need to replace null intended data (for example a '?' in place of null), with np.nan"
   ]
  },
  {
   "cell_type": "markdown",
   "id": "5e5ea386",
   "metadata": {},
   "source": [
    "#### We will approach this in two ways - One without date_time_of_pickup as a feature and one with date_time_of_pickup correctly designed and given so as to act as a feature."
   ]
  },
  {
   "cell_type": "markdown",
   "id": "ecb14b30",
   "metadata": {},
   "source": [
    "## Data Visualization"
   ]
  },
  {
   "cell_type": "code",
   "execution_count": 10,
   "id": "942613cc",
   "metadata": {},
   "outputs": [
    {
     "data": {
      "text/plain": [
       "<seaborn.axisgrid.FacetGrid at 0x2a5ebc13d90>"
      ]
     },
     "execution_count": 10,
     "metadata": {},
     "output_type": "execute_result"
    },
    {
     "data": {
      "image/png": "[encoded data removed]",
      "text/plain": [
       "<Figure size 360x360 with 1 Axes>"
      ]
     },
     "metadata": {
      "needs_background": "light"
     },
     "output_type": "display_data"
    }
   ],
   "source": [
    "sns.relplot(x = 'no_of_passenger', y = 'amount', data = df)"
   ]
  },
  {
   "cell_type": "code",
   "execution_count": 11,
   "id": "93cbbbc0",
   "metadata": {},
   "outputs": [
    {
     "data": {
      "text/plain": [
       "array([[<AxesSubplot:title={'center':'amount'}>,\n",
       "        <AxesSubplot:title={'center':'longitude_of_pickup'}>],\n",
       "       [<AxesSubplot:title={'center':'latitude_of_pickup'}>,\n",
       "        <AxesSubplot:title={'center':'longitude_of_dropoff'}>],\n",
       "       [<AxesSubplot:title={'center':'latitude_of_dropoff'}>,\n",
       "        <AxesSubplot:title={'center':'no_of_passenger'}>]], dtype=object)"
      ]
     },
     "execution_count": 11,
     "metadata": {},
     "output_type": "execute_result"
    },
    {
     "data": {
      "image/png": "[encoded data removed]",
      "text/plain": [
       "<Figure size 720x1440 with 6 Axes>"
      ]
     },
     "metadata": {
      "needs_background": "light"
     },
     "output_type": "display_data"
    }
   ],
   "source": [
    "df.hist(figsize=(10, 20))"
   ]
  },
  {
   "cell_type": "code",
   "execution_count": 12,
   "id": "f7990fb9",
   "metadata": {},
   "outputs": [
    {
     "data": {
      "text/html": [
       "<div>\n",
       "<style scoped>\n",
       "    .dataframe tbody tr th:only-of-type {\n",
       "        vertical-align: middle;\n",
       "    }\n",
       "\n",
       "    .dataframe tbody tr th {\n",
       "        vertical-align: top;\n",
       "    }\n",
       "\n",
       "    .dataframe thead th {\n",
       "        text-align: right;\n",
       "    }\n",
       "</style>\n",
       "<table border=\"1\" class=\"dataframe\">\n",
       "  <thead>\n",
       "    <tr style=\"text-align: right;\">\n",
       "      <th></th>\n",
       "      <th>amount</th>\n",
       "      <th>longitude_of_pickup</th>\n",
       "      <th>latitude_of_pickup</th>\n",
       "      <th>longitude_of_dropoff</th>\n",
       "      <th>latitude_of_dropoff</th>\n",
       "      <th>no_of_passenger</th>\n",
       "    </tr>\n",
       "  </thead>\n",
       "  <tbody>\n",
       "    <tr>\n",
       "      <th>amount</th>\n",
       "      <td>1.000000</td>\n",
       "      <td>0.005944</td>\n",
       "      <td>-0.007338</td>\n",
       "      <td>0.004286</td>\n",
       "      <td>-0.005442</td>\n",
       "      <td>0.016583</td>\n",
       "    </tr>\n",
       "    <tr>\n",
       "      <th>longitude_of_pickup</th>\n",
       "      <td>0.005944</td>\n",
       "      <td>1.000000</td>\n",
       "      <td>-0.950588</td>\n",
       "      <td>0.956131</td>\n",
       "      <td>-0.946968</td>\n",
       "      <td>-0.005604</td>\n",
       "    </tr>\n",
       "    <tr>\n",
       "      <th>latitude_of_pickup</th>\n",
       "      <td>-0.007338</td>\n",
       "      <td>-0.950588</td>\n",
       "      <td>1.000000</td>\n",
       "      <td>-0.911123</td>\n",
       "      <td>0.928189</td>\n",
       "      <td>0.003237</td>\n",
       "    </tr>\n",
       "    <tr>\n",
       "      <th>longitude_of_dropoff</th>\n",
       "      <td>0.004286</td>\n",
       "      <td>0.956131</td>\n",
       "      <td>-0.911123</td>\n",
       "      <td>1.000000</td>\n",
       "      <td>-0.982117</td>\n",
       "      <td>-0.004936</td>\n",
       "    </tr>\n",
       "    <tr>\n",
       "      <th>latitude_of_dropoff</th>\n",
       "      <td>-0.005442</td>\n",
       "      <td>-0.946968</td>\n",
       "      <td>0.928189</td>\n",
       "      <td>-0.982117</td>\n",
       "      <td>1.000000</td>\n",
       "      <td>0.002958</td>\n",
       "    </tr>\n",
       "    <tr>\n",
       "      <th>no_of_passenger</th>\n",
       "      <td>0.016583</td>\n",
       "      <td>-0.005604</td>\n",
       "      <td>0.003237</td>\n",
       "      <td>-0.004936</td>\n",
       "      <td>0.002958</td>\n",
       "      <td>1.000000</td>\n",
       "    </tr>\n",
       "  </tbody>\n",
       "</table>\n",
       "</div>"
      ],
      "text/plain": [
       "                        amount  longitude_of_pickup  latitude_of_pickup  \\\n",
       "amount                1.000000             0.005944           -0.007338   \n",
       "longitude_of_pickup   0.005944             1.000000           -0.950588   \n",
       "latitude_of_pickup   -0.007338            -0.950588            1.000000   \n",
       "longitude_of_dropoff  0.004286             0.956131           -0.911123   \n",
       "latitude_of_dropoff  -0.005442            -0.946968            0.928189   \n",
       "no_of_passenger       0.016583            -0.005604            0.003237   \n",
       "\n",
       "                      longitude_of_dropoff  latitude_of_dropoff  \\\n",
       "amount                            0.004286            -0.005442   \n",
       "longitude_of_pickup               0.956131            -0.946968   \n",
       "latitude_of_pickup               -0.911123             0.928189   \n",
       "longitude_of_dropoff              1.000000            -0.982117   \n",
       "latitude_of_dropoff              -0.982117             1.000000   \n",
       "no_of_passenger                  -0.004936             0.002958   \n",
       "\n",
       "                      no_of_passenger  \n",
       "amount                       0.016583  \n",
       "longitude_of_pickup         -0.005604  \n",
       "latitude_of_pickup           0.003237  \n",
       "longitude_of_dropoff        -0.004936  \n",
       "latitude_of_dropoff          0.002958  \n",
       "no_of_passenger              1.000000  "
      ]
     },
     "execution_count": 12,
     "metadata": {},
     "output_type": "execute_result"
    }
   ],
   "source": [
    "df.corr()"
   ]
  },
  {
   "cell_type": "markdown",
   "id": "ce1ccd33",
   "metadata": {},
   "source": [
    "#### We can observe that there is almost no correlation between amount and other features. But maybe, the combination of all of them will give the desired result."
   ]
  },
  {
   "cell_type": "code",
   "execution_count": 13,
   "id": "f9b4e0e8",
   "metadata": {},
   "outputs": [
    {
     "data": {
      "text/plain": [
       "<AxesSubplot:xlabel='no_of_passenger', ylabel='amount'>"
      ]
     },
     "execution_count": 13,
     "metadata": {},
     "output_type": "execute_result"
    },
    {
     "data": {
      "image/png": "[encoded data removed]",
      "text/plain": [
       "<Figure size 432x288 with 1 Axes>"
      ]
     },
     "metadata": {
      "needs_background": "light"
     },
     "output_type": "display_data"
    }
   ],
   "source": [
    "sns.boxplot(x = 'no_of_passenger', y = 'amount', data = df)"
   ]
  },
  {
   "cell_type": "markdown",
   "id": "98a643ed",
   "metadata": {},
   "source": [
    "#### Since, there are a lot of outliers, we will let them be as they can be even natural outliers leading to the right results"
   ]
  },
  {
   "cell_type": "code",
   "execution_count": 14,
   "id": "556e5ecb",
   "metadata": {},
   "outputs": [
    {
     "data": {
      "text/plain": [
       "<AxesSubplot:xlabel='no_of_passenger', ylabel='count'>"
      ]
     },
     "execution_count": 14,
     "metadata": {},
     "output_type": "execute_result"
    },
    {
     "data": {
      "image/png": "[encoded data removed]",
      "text/plain": [
       "<Figure size 432x288 with 1 Axes>"
      ]
     },
     "metadata": {
      "needs_background": "light"
     },
     "output_type": "display_data"
    }
   ],
   "source": [
    "sns.countplot(\"no_of_passenger\", data = df)"
   ]
  },
  {
   "cell_type": "markdown",
   "id": "fa81d5d8",
   "metadata": {},
   "source": [
    "#### From this data we can observe that single passenger count is very large. Implying that many people according to the dataset go alone in taxis or prefer to go alone"
   ]
  },
  {
   "cell_type": "code",
   "execution_count": 15,
   "id": "eb890e44",
   "metadata": {},
   "outputs": [
    {
     "data": {
      "text/html": [
       "<div>\n",
       "<style scoped>\n",
       "    .dataframe tbody tr th:only-of-type {\n",
       "        vertical-align: middle;\n",
       "    }\n",
       "\n",
       "    .dataframe tbody tr th {\n",
       "        vertical-align: top;\n",
       "    }\n",
       "\n",
       "    .dataframe thead th {\n",
       "        text-align: right;\n",
       "    }\n",
       "</style>\n",
       "<table border=\"1\" class=\"dataframe\">\n",
       "  <thead>\n",
       "    <tr style=\"text-align: right;\">\n",
       "      <th></th>\n",
       "      <th>unique_id</th>\n",
       "      <th>amount</th>\n",
       "      <th>date_time_of_pickup</th>\n",
       "      <th>longitude_of_pickup</th>\n",
       "      <th>latitude_of_pickup</th>\n",
       "      <th>longitude_of_dropoff</th>\n",
       "      <th>latitude_of_dropoff</th>\n",
       "      <th>no_of_passenger</th>\n",
       "      <th>0</th>\n",
       "      <th>1</th>\n",
       "    </tr>\n",
       "  </thead>\n",
       "  <tbody>\n",
       "    <tr>\n",
       "      <th>20834</th>\n",
       "      <td>44:59.0</td>\n",
       "      <td>8.10</td>\n",
       "      <td>2010-10-03 17:44:59 UTC</td>\n",
       "      <td>-73.991321</td>\n",
       "      <td>40.737051</td>\n",
       "      <td>-73.980013</td>\n",
       "      <td>40.759529</td>\n",
       "      <td>3</td>\n",
       "      <td>0.022478</td>\n",
       "      <td>0.011308</td>\n",
       "    </tr>\n",
       "    <tr>\n",
       "      <th>19818</th>\n",
       "      <td>19:00.0</td>\n",
       "      <td>13.30</td>\n",
       "      <td>2010-12-02 20:19:00 UTC</td>\n",
       "      <td>-73.996867</td>\n",
       "      <td>40.747413</td>\n",
       "      <td>-73.961338</td>\n",
       "      <td>40.775225</td>\n",
       "      <td>2</td>\n",
       "      <td>0.027812</td>\n",
       "      <td>0.035529</td>\n",
       "    </tr>\n",
       "    <tr>\n",
       "      <th>4181</th>\n",
       "      <td>29:00.0</td>\n",
       "      <td>5.50</td>\n",
       "      <td>2012-10-26 17:29:00 UTC</td>\n",
       "      <td>-73.976427</td>\n",
       "      <td>40.785527</td>\n",
       "      <td>-73.968197</td>\n",
       "      <td>40.799225</td>\n",
       "      <td>5</td>\n",
       "      <td>0.013698</td>\n",
       "      <td>0.008230</td>\n",
       "    </tr>\n",
       "    <tr>\n",
       "      <th>20489</th>\n",
       "      <td>51:00.0</td>\n",
       "      <td>6.50</td>\n",
       "      <td>2011-06-29 22:51:00 UTC</td>\n",
       "      <td>-73.983022</td>\n",
       "      <td>40.762635</td>\n",
       "      <td>-73.963285</td>\n",
       "      <td>40.774668</td>\n",
       "      <td>2</td>\n",
       "      <td>0.012033</td>\n",
       "      <td>0.019737</td>\n",
       "    </tr>\n",
       "    <tr>\n",
       "      <th>29161</th>\n",
       "      <td>34:04.0</td>\n",
       "      <td>11.00</td>\n",
       "      <td>2014-10-22 18:34:04 UTC</td>\n",
       "      <td>-73.978574</td>\n",
       "      <td>40.772873</td>\n",
       "      <td>-73.967598</td>\n",
       "      <td>40.759964</td>\n",
       "      <td>1</td>\n",
       "      <td>0.012909</td>\n",
       "      <td>0.010976</td>\n",
       "    </tr>\n",
       "    <tr>\n",
       "      <th>38525</th>\n",
       "      <td>16:00.0</td>\n",
       "      <td>6.50</td>\n",
       "      <td>2013-09-19 09:16:00 UTC</td>\n",
       "      <td>-73.980092</td>\n",
       "      <td>40.760817</td>\n",
       "      <td>-73.978288</td>\n",
       "      <td>40.772972</td>\n",
       "      <td>1</td>\n",
       "      <td>0.012155</td>\n",
       "      <td>0.001804</td>\n",
       "    </tr>\n",
       "    <tr>\n",
       "      <th>19761</th>\n",
       "      <td>18:54.0</td>\n",
       "      <td>4.90</td>\n",
       "      <td>2011-05-21 04:18:54 UTC</td>\n",
       "      <td>0.000000</td>\n",
       "      <td>0.000000</td>\n",
       "      <td>0.000000</td>\n",
       "      <td>0.000000</td>\n",
       "      <td>1</td>\n",
       "      <td>0.000000</td>\n",
       "      <td>0.000000</td>\n",
       "    </tr>\n",
       "    <tr>\n",
       "      <th>1151</th>\n",
       "      <td>20:34.0</td>\n",
       "      <td>30.83</td>\n",
       "      <td>2015-01-13 14:20:34 UTC</td>\n",
       "      <td>-73.873054</td>\n",
       "      <td>40.774048</td>\n",
       "      <td>-73.984680</td>\n",
       "      <td>40.741188</td>\n",
       "      <td>1</td>\n",
       "      <td>0.032860</td>\n",
       "      <td>0.111626</td>\n",
       "    </tr>\n",
       "    <tr>\n",
       "      <th>38476</th>\n",
       "      <td>13:17.0</td>\n",
       "      <td>9.70</td>\n",
       "      <td>2011-05-15 15:13:17 UTC</td>\n",
       "      <td>-73.973278</td>\n",
       "      <td>40.784986</td>\n",
       "      <td>-73.986750</td>\n",
       "      <td>40.755792</td>\n",
       "      <td>1</td>\n",
       "      <td>0.029194</td>\n",
       "      <td>0.013472</td>\n",
       "    </tr>\n",
       "    <tr>\n",
       "      <th>11492</th>\n",
       "      <td>09:21.0</td>\n",
       "      <td>9.00</td>\n",
       "      <td>2014-07-08 10:09:21 UTC</td>\n",
       "      <td>-73.951183</td>\n",
       "      <td>40.779339</td>\n",
       "      <td>-73.969078</td>\n",
       "      <td>40.761212</td>\n",
       "      <td>1</td>\n",
       "      <td>0.018127</td>\n",
       "      <td>0.017895</td>\n",
       "    </tr>\n",
       "  </tbody>\n",
       "</table>\n",
       "</div>"
      ],
      "text/plain": [
       "      unique_id  amount      date_time_of_pickup  longitude_of_pickup  \\\n",
       "20834   44:59.0    8.10  2010-10-03 17:44:59 UTC           -73.991321   \n",
       "19818   19:00.0   13.30  2010-12-02 20:19:00 UTC           -73.996867   \n",
       "4181    29:00.0    5.50  2012-10-26 17:29:00 UTC           -73.976427   \n",
       "20489   51:00.0    6.50  2011-06-29 22:51:00 UTC           -73.983022   \n",
       "29161   34:04.0   11.00  2014-10-22 18:34:04 UTC           -73.978574   \n",
       "38525   16:00.0    6.50  2013-09-19 09:16:00 UTC           -73.980092   \n",
       "19761   18:54.0    4.90  2011-05-21 04:18:54 UTC             0.000000   \n",
       "1151    20:34.0   30.83  2015-01-13 14:20:34 UTC           -73.873054   \n",
       "38476   13:17.0    9.70  2011-05-15 15:13:17 UTC           -73.973278   \n",
       "11492   09:21.0    9.00  2014-07-08 10:09:21 UTC           -73.951183   \n",
       "\n",
       "       latitude_of_pickup  longitude_of_dropoff  latitude_of_dropoff  \\\n",
       "20834           40.737051            -73.980013            40.759529   \n",
       "19818           40.747413            -73.961338            40.775225   \n",
       "4181            40.785527            -73.968197            40.799225   \n",
       "20489           40.762635            -73.963285            40.774668   \n",
       "29161           40.772873            -73.967598            40.759964   \n",
       "38525           40.760817            -73.978288            40.772972   \n",
       "19761            0.000000              0.000000             0.000000   \n",
       "1151            40.774048            -73.984680            40.741188   \n",
       "38476           40.784986            -73.986750            40.755792   \n",
       "11492           40.779339            -73.969078            40.761212   \n",
       "\n",
       "       no_of_passenger         0         1  \n",
       "20834                3  0.022478  0.011308  \n",
       "19818                2  0.027812  0.035529  \n",
       "4181                 5  0.013698  0.008230  \n",
       "20489                2  0.012033  0.019737  \n",
       "29161                1  0.012909  0.010976  \n",
       "38525                1  0.012155  0.001804  \n",
       "19761                1  0.000000  0.000000  \n",
       "1151                 1  0.032860  0.111626  \n",
       "38476                1  0.029194  0.013472  \n",
       "11492                1  0.018127  0.017895  "
      ]
     },
     "execution_count": 15,
     "metadata": {},
     "output_type": "execute_result"
    }
   ],
   "source": [
    "approx_distance_latitude = abs(df['latitude_of_pickup']-df['latitude_of_dropoff'])\n",
    "approx_distance_longitude = abs(df['longitude_of_pickup']-df['longitude_of_dropoff'])\n",
    "df_observation = pd.concat([df, approx_distance_latitude, approx_distance_longitude], axis = 1)\n",
    "\n",
    "df_observation.sample(10)"
   ]
  },
  {
   "cell_type": "code",
   "execution_count": 16,
   "id": "f84831ce",
   "metadata": {},
   "outputs": [],
   "source": [
    "df_observation.rename(columns = {0:'approx_distance_latitude', 1:'approx_distance_longitude'}, inplace = True)"
   ]
  },
  {
   "cell_type": "code",
   "execution_count": 17,
   "id": "3d81c44b",
   "metadata": {},
   "outputs": [
    {
     "data": {
      "text/html": [
       "<div>\n",
       "<style scoped>\n",
       "    .dataframe tbody tr th:only-of-type {\n",
       "        vertical-align: middle;\n",
       "    }\n",
       "\n",
       "    .dataframe tbody tr th {\n",
       "        vertical-align: top;\n",
       "    }\n",
       "\n",
       "    .dataframe thead th {\n",
       "        text-align: right;\n",
       "    }\n",
       "</style>\n",
       "<table border=\"1\" class=\"dataframe\">\n",
       "  <thead>\n",
       "    <tr style=\"text-align: right;\">\n",
       "      <th></th>\n",
       "      <th>unique_id</th>\n",
       "      <th>amount</th>\n",
       "      <th>date_time_of_pickup</th>\n",
       "      <th>longitude_of_pickup</th>\n",
       "      <th>latitude_of_pickup</th>\n",
       "      <th>longitude_of_dropoff</th>\n",
       "      <th>latitude_of_dropoff</th>\n",
       "      <th>no_of_passenger</th>\n",
       "      <th>approx_distance_latitude</th>\n",
       "      <th>approx_distance_longitude</th>\n",
       "    </tr>\n",
       "  </thead>\n",
       "  <tbody>\n",
       "    <tr>\n",
       "      <th>25839</th>\n",
       "      <td>25:00.0</td>\n",
       "      <td>15.5</td>\n",
       "      <td>2013-01-04 19:25:00 UTC</td>\n",
       "      <td>-74.007698</td>\n",
       "      <td>40.732917</td>\n",
       "      <td>-73.974390</td>\n",
       "      <td>40.757102</td>\n",
       "      <td>1</td>\n",
       "      <td>0.024185</td>\n",
       "      <td>0.033308</td>\n",
       "    </tr>\n",
       "    <tr>\n",
       "      <th>17907</th>\n",
       "      <td>07:46.0</td>\n",
       "      <td>26.5</td>\n",
       "      <td>2015-06-03 08:07:46 UTC</td>\n",
       "      <td>-73.925789</td>\n",
       "      <td>40.761494</td>\n",
       "      <td>-73.848045</td>\n",
       "      <td>40.721321</td>\n",
       "      <td>1</td>\n",
       "      <td>0.040173</td>\n",
       "      <td>0.077744</td>\n",
       "    </tr>\n",
       "    <tr>\n",
       "      <th>21160</th>\n",
       "      <td>21:36.0</td>\n",
       "      <td>5.5</td>\n",
       "      <td>2013-03-16 20:21:36 UTC</td>\n",
       "      <td>-73.968767</td>\n",
       "      <td>40.758963</td>\n",
       "      <td>-73.962990</td>\n",
       "      <td>40.769383</td>\n",
       "      <td>1</td>\n",
       "      <td>0.010420</td>\n",
       "      <td>0.005777</td>\n",
       "    </tr>\n",
       "    <tr>\n",
       "      <th>7879</th>\n",
       "      <td>23:00.0</td>\n",
       "      <td>6.5</td>\n",
       "      <td>2014-05-09 09:23:00 UTC</td>\n",
       "      <td>-73.956327</td>\n",
       "      <td>40.781807</td>\n",
       "      <td>-73.965215</td>\n",
       "      <td>40.769612</td>\n",
       "      <td>3</td>\n",
       "      <td>0.012195</td>\n",
       "      <td>0.008888</td>\n",
       "    </tr>\n",
       "    <tr>\n",
       "      <th>17013</th>\n",
       "      <td>59:00.0</td>\n",
       "      <td>7.5</td>\n",
       "      <td>2013-10-07 14:59:00 UTC</td>\n",
       "      <td>-73.973566</td>\n",
       "      <td>40.750628</td>\n",
       "      <td>-73.961019</td>\n",
       "      <td>40.760982</td>\n",
       "      <td>1</td>\n",
       "      <td>0.010354</td>\n",
       "      <td>0.012547</td>\n",
       "    </tr>\n",
       "    <tr>\n",
       "      <th>47340</th>\n",
       "      <td>37:00.0</td>\n",
       "      <td>4.9</td>\n",
       "      <td>2010-01-11 13:37:00 UTC</td>\n",
       "      <td>-73.983892</td>\n",
       "      <td>40.762898</td>\n",
       "      <td>-73.987698</td>\n",
       "      <td>40.752463</td>\n",
       "      <td>5</td>\n",
       "      <td>0.010435</td>\n",
       "      <td>0.003806</td>\n",
       "    </tr>\n",
       "    <tr>\n",
       "      <th>10121</th>\n",
       "      <td>22:16.0</td>\n",
       "      <td>10.0</td>\n",
       "      <td>2015-03-23 19:22:16 UTC</td>\n",
       "      <td>-73.988304</td>\n",
       "      <td>40.743809</td>\n",
       "      <td>-73.982094</td>\n",
       "      <td>40.767742</td>\n",
       "      <td>1</td>\n",
       "      <td>0.023933</td>\n",
       "      <td>0.006210</td>\n",
       "    </tr>\n",
       "    <tr>\n",
       "      <th>46222</th>\n",
       "      <td>21:00.0</td>\n",
       "      <td>18.5</td>\n",
       "      <td>2012-05-10 00:21:00 UTC</td>\n",
       "      <td>-73.991997</td>\n",
       "      <td>40.684485</td>\n",
       "      <td>-73.921025</td>\n",
       "      <td>40.699015</td>\n",
       "      <td>2</td>\n",
       "      <td>0.014530</td>\n",
       "      <td>0.070972</td>\n",
       "    </tr>\n",
       "    <tr>\n",
       "      <th>29428</th>\n",
       "      <td>26:00.0</td>\n",
       "      <td>6.5</td>\n",
       "      <td>2013-07-18 10:26:00 UTC</td>\n",
       "      <td>-73.994505</td>\n",
       "      <td>40.735012</td>\n",
       "      <td>-74.006602</td>\n",
       "      <td>40.741567</td>\n",
       "      <td>1</td>\n",
       "      <td>0.006555</td>\n",
       "      <td>0.012097</td>\n",
       "    </tr>\n",
       "    <tr>\n",
       "      <th>35993</th>\n",
       "      <td>03:00.0</td>\n",
       "      <td>7.7</td>\n",
       "      <td>2011-04-19 13:03:00 UTC</td>\n",
       "      <td>-73.968308</td>\n",
       "      <td>40.799690</td>\n",
       "      <td>-73.949767</td>\n",
       "      <td>40.793537</td>\n",
       "      <td>1</td>\n",
       "      <td>0.006153</td>\n",
       "      <td>0.018541</td>\n",
       "    </tr>\n",
       "  </tbody>\n",
       "</table>\n",
       "</div>"
      ],
      "text/plain": [
       "      unique_id  amount      date_time_of_pickup  longitude_of_pickup  \\\n",
       "25839   25:00.0    15.5  2013-01-04 19:25:00 UTC           -74.007698   \n",
       "17907   07:46.0    26.5  2015-06-03 08:07:46 UTC           -73.925789   \n",
       "21160   21:36.0     5.5  2013-03-16 20:21:36 UTC           -73.968767   \n",
       "7879    23:00.0     6.5  2014-05-09 09:23:00 UTC           -73.956327   \n",
       "17013   59:00.0     7.5  2013-10-07 14:59:00 UTC           -73.973566   \n",
       "47340   37:00.0     4.9  2010-01-11 13:37:00 UTC           -73.983892   \n",
       "10121   22:16.0    10.0  2015-03-23 19:22:16 UTC           -73.988304   \n",
       "46222   21:00.0    18.5  2012-05-10 00:21:00 UTC           -73.991997   \n",
       "29428   26:00.0     6.5  2013-07-18 10:26:00 UTC           -73.994505   \n",
       "35993   03:00.0     7.7  2011-04-19 13:03:00 UTC           -73.968308   \n",
       "\n",
       "       latitude_of_pickup  longitude_of_dropoff  latitude_of_dropoff  \\\n",
       "25839           40.732917            -73.974390            40.757102   \n",
       "17907           40.761494            -73.848045            40.721321   \n",
       "21160           40.758963            -73.962990            40.769383   \n",
       "7879            40.781807            -73.965215            40.769612   \n",
       "17013           40.750628            -73.961019            40.760982   \n",
       "47340           40.762898            -73.987698            40.752463   \n",
       "10121           40.743809            -73.982094            40.767742   \n",
       "46222           40.684485            -73.921025            40.699015   \n",
       "29428           40.735012            -74.006602            40.741567   \n",
       "35993           40.799690            -73.949767            40.793537   \n",
       "\n",
       "       no_of_passenger  approx_distance_latitude  approx_distance_longitude  \n",
       "25839                1                  0.024185                   0.033308  \n",
       "17907                1                  0.040173                   0.077744  \n",
       "21160                1                  0.010420                   0.005777  \n",
       "7879                 3                  0.012195                   0.008888  \n",
       "17013                1                  0.010354                   0.012547  \n",
       "47340                5                  0.010435                   0.003806  \n",
       "10121                1                  0.023933                   0.006210  \n",
       "46222                2                  0.014530                   0.070972  \n",
       "29428                1                  0.006555                   0.012097  \n",
       "35993                1                  0.006153                   0.018541  "
      ]
     },
     "execution_count": 17,
     "metadata": {},
     "output_type": "execute_result"
    }
   ],
   "source": [
    "df_observation.sample(10)"
   ]
  },
  {
   "cell_type": "code",
   "execution_count": 18,
   "id": "4156836a",
   "metadata": {},
   "outputs": [
    {
     "data": {
      "text/html": [
       "<div>\n",
       "<style scoped>\n",
       "    .dataframe tbody tr th:only-of-type {\n",
       "        vertical-align: middle;\n",
       "    }\n",
       "\n",
       "    .dataframe tbody tr th {\n",
       "        vertical-align: top;\n",
       "    }\n",
       "\n",
       "    .dataframe thead th {\n",
       "        text-align: right;\n",
       "    }\n",
       "</style>\n",
       "<table border=\"1\" class=\"dataframe\">\n",
       "  <thead>\n",
       "    <tr style=\"text-align: right;\">\n",
       "      <th></th>\n",
       "      <th>amount</th>\n",
       "      <th>longitude_of_pickup</th>\n",
       "      <th>latitude_of_pickup</th>\n",
       "      <th>longitude_of_dropoff</th>\n",
       "      <th>latitude_of_dropoff</th>\n",
       "      <th>no_of_passenger</th>\n",
       "      <th>approx_distance_latitude</th>\n",
       "      <th>approx_distance_longitude</th>\n",
       "    </tr>\n",
       "  </thead>\n",
       "  <tbody>\n",
       "    <tr>\n",
       "      <th>amount</th>\n",
       "      <td>1.000000</td>\n",
       "      <td>0.005944</td>\n",
       "      <td>-0.007338</td>\n",
       "      <td>0.004286</td>\n",
       "      <td>-0.005442</td>\n",
       "      <td>0.016583</td>\n",
       "      <td>0.008981</td>\n",
       "      <td>0.016001</td>\n",
       "    </tr>\n",
       "    <tr>\n",
       "      <th>longitude_of_pickup</th>\n",
       "      <td>0.005944</td>\n",
       "      <td>1.000000</td>\n",
       "      <td>-0.950588</td>\n",
       "      <td>0.956131</td>\n",
       "      <td>-0.946968</td>\n",
       "      <td>-0.005604</td>\n",
       "      <td>0.103832</td>\n",
       "      <td>0.136934</td>\n",
       "    </tr>\n",
       "    <tr>\n",
       "      <th>latitude_of_pickup</th>\n",
       "      <td>-0.007338</td>\n",
       "      <td>-0.950588</td>\n",
       "      <td>1.000000</td>\n",
       "      <td>-0.911123</td>\n",
       "      <td>0.928189</td>\n",
       "      <td>0.003237</td>\n",
       "      <td>0.088458</td>\n",
       "      <td>-0.122697</td>\n",
       "    </tr>\n",
       "    <tr>\n",
       "      <th>longitude_of_dropoff</th>\n",
       "      <td>0.004286</td>\n",
       "      <td>0.956131</td>\n",
       "      <td>-0.911123</td>\n",
       "      <td>1.000000</td>\n",
       "      <td>-0.982117</td>\n",
       "      <td>-0.004936</td>\n",
       "      <td>0.095855</td>\n",
       "      <td>0.145795</td>\n",
       "    </tr>\n",
       "    <tr>\n",
       "      <th>latitude_of_dropoff</th>\n",
       "      <td>-0.005442</td>\n",
       "      <td>-0.946968</td>\n",
       "      <td>0.928189</td>\n",
       "      <td>-0.982117</td>\n",
       "      <td>1.000000</td>\n",
       "      <td>0.002958</td>\n",
       "      <td>-0.096594</td>\n",
       "      <td>-0.117685</td>\n",
       "    </tr>\n",
       "    <tr>\n",
       "      <th>no_of_passenger</th>\n",
       "      <td>0.016583</td>\n",
       "      <td>-0.005604</td>\n",
       "      <td>0.003237</td>\n",
       "      <td>-0.004936</td>\n",
       "      <td>0.002958</td>\n",
       "      <td>1.000000</td>\n",
       "      <td>-0.005018</td>\n",
       "      <td>-0.005870</td>\n",
       "    </tr>\n",
       "    <tr>\n",
       "      <th>approx_distance_latitude</th>\n",
       "      <td>0.008981</td>\n",
       "      <td>0.103832</td>\n",
       "      <td>0.088458</td>\n",
       "      <td>0.095855</td>\n",
       "      <td>-0.096594</td>\n",
       "      <td>-0.005018</td>\n",
       "      <td>1.000000</td>\n",
       "      <td>0.664816</td>\n",
       "    </tr>\n",
       "    <tr>\n",
       "      <th>approx_distance_longitude</th>\n",
       "      <td>0.016001</td>\n",
       "      <td>0.136934</td>\n",
       "      <td>-0.122697</td>\n",
       "      <td>0.145795</td>\n",
       "      <td>-0.117685</td>\n",
       "      <td>-0.005870</td>\n",
       "      <td>0.664816</td>\n",
       "      <td>1.000000</td>\n",
       "    </tr>\n",
       "  </tbody>\n",
       "</table>\n",
       "</div>"
      ],
      "text/plain": [
       "                             amount  longitude_of_pickup  latitude_of_pickup  \\\n",
       "amount                     1.000000             0.005944           -0.007338   \n",
       "longitude_of_pickup        0.005944             1.000000           -0.950588   \n",
       "latitude_of_pickup        -0.007338            -0.950588            1.000000   \n",
       "longitude_of_dropoff       0.004286             0.956131           -0.911123   \n",
       "latitude_of_dropoff       -0.005442            -0.946968            0.928189   \n",
       "no_of_passenger            0.016583            -0.005604            0.003237   \n",
       "approx_distance_latitude   0.008981             0.103832            0.088458   \n",
       "approx_distance_longitude  0.016001             0.136934           -0.122697   \n",
       "\n",
       "                           longitude_of_dropoff  latitude_of_dropoff  \\\n",
       "amount                                 0.004286            -0.005442   \n",
       "longitude_of_pickup                    0.956131            -0.946968   \n",
       "latitude_of_pickup                    -0.911123             0.928189   \n",
       "longitude_of_dropoff                   1.000000            -0.982117   \n",
       "latitude_of_dropoff                   -0.982117             1.000000   \n",
       "no_of_passenger                       -0.004936             0.002958   \n",
       "approx_distance_latitude               0.095855            -0.096594   \n",
       "approx_distance_longitude              0.145795            -0.117685   \n",
       "\n",
       "                           no_of_passenger  approx_distance_latitude  \\\n",
       "amount                            0.016583                  0.008981   \n",
       "longitude_of_pickup              -0.005604                  0.103832   \n",
       "latitude_of_pickup                0.003237                  0.088458   \n",
       "longitude_of_dropoff             -0.004936                  0.095855   \n",
       "latitude_of_dropoff               0.002958                 -0.096594   \n",
       "no_of_passenger                   1.000000                 -0.005018   \n",
       "approx_distance_latitude         -0.005018                  1.000000   \n",
       "approx_distance_longitude        -0.005870                  0.664816   \n",
       "\n",
       "                           approx_distance_longitude  \n",
       "amount                                      0.016001  \n",
       "longitude_of_pickup                         0.136934  \n",
       "latitude_of_pickup                         -0.122697  \n",
       "longitude_of_dropoff                        0.145795  \n",
       "latitude_of_dropoff                        -0.117685  \n",
       "no_of_passenger                            -0.005870  \n",
       "approx_distance_latitude                    0.664816  \n",
       "approx_distance_longitude                   1.000000  "
      ]
     },
     "execution_count": 18,
     "metadata": {},
     "output_type": "execute_result"
    }
   ],
   "source": [
    "df_observation.corr()"
   ]
  },
  {
   "cell_type": "code",
   "execution_count": 19,
   "id": "73e643cc",
   "metadata": {},
   "outputs": [
    {
     "data": {
      "text/plain": [
       "<seaborn.axisgrid.FacetGrid at 0x2a5ee04e8b0>"
      ]
     },
     "execution_count": 19,
     "metadata": {},
     "output_type": "execute_result"
    },
    {
     "data": {
      "image/png": "[encoded data removed]",
      "text/plain": [
       "<Figure size 360x360 with 1 Axes>"
      ]
     },
     "metadata": {
      "needs_background": "light"
     },
     "output_type": "display_data"
    }
   ],
   "source": [
    "sns.relplot(y = 'amount', x = 'approx_distance_latitude', data = df_observation)"
   ]
  },
  {
   "cell_type": "code",
   "execution_count": 20,
   "id": "330e5315",
   "metadata": {},
   "outputs": [
    {
     "data": {
      "text/plain": [
       "<seaborn.axisgrid.FacetGrid at 0x2a5ee04e490>"
      ]
     },
     "execution_count": 20,
     "metadata": {},
     "output_type": "execute_result"
    },
    {
     "data": {
      "image/png": "[encoded data removed]",
      "text/plain": [
       "<Figure size 360x360 with 1 Axes>"
      ]
     },
     "metadata": {
      "needs_background": "light"
     },
     "output_type": "display_data"
    }
   ],
   "source": [
    "sns.relplot(y = 'amount', x = 'approx_distance_longitude', data = df_observation)"
   ]
  },
  {
   "cell_type": "markdown",
   "id": "5e5d2b5d",
   "metadata": {},
   "source": [
    "#### The approx distance attained by subtracting the latitudes and longitudes also have not much correlation with the amount"
   ]
  },
  {
   "cell_type": "code",
   "execution_count": 21,
   "id": "77d636ea",
   "metadata": {},
   "outputs": [
    {
     "data": {
      "text/plain": [
       "<AxesSubplot:xlabel='amount', ylabel='Density'>"
      ]
     },
     "execution_count": 21,
     "metadata": {},
     "output_type": "execute_result"
    },
    {
     "data": {
      "image/png": "[encoded data removed]",
      "text/plain": [
       "<Figure size 432x288 with 1 Axes>"
      ]
     },
     "metadata": {
      "needs_background": "light"
     },
     "output_type": "display_data"
    }
   ],
   "source": [
    "sns.distplot(df['amount'])"
   ]
  },
  {
   "cell_type": "code",
   "execution_count": 22,
   "id": "2f453e5f",
   "metadata": {},
   "outputs": [
    {
     "data": {
      "text/plain": [
       "<AxesSubplot:xlabel='no_of_passenger', ylabel='Density'>"
      ]
     },
     "execution_count": 22,
     "metadata": {},
     "output_type": "execute_result"
    },
    {
     "data": {
      "image/png": "[encoded data removed]",
      "text/plain": [
       "<Figure size 432x288 with 1 Axes>"
      ]
     },
     "metadata": {
      "needs_background": "light"
     },
     "output_type": "display_data"
    }
   ],
   "source": [
    "sns.distplot(df['no_of_passenger'])"
   ]
  },
  {
   "cell_type": "code",
   "execution_count": 23,
   "id": "303847c5",
   "metadata": {},
   "outputs": [
    {
     "data": {
      "text/plain": [
       "<AxesSubplot:xlabel='longitude_of_pickup', ylabel='Density'>"
      ]
     },
     "execution_count": 23,
     "metadata": {},
     "output_type": "execute_result"
    },
    {
     "data": {
      "image/png": "[encoded data removed]",
      "text/plain": [
       "<Figure size 432x288 with 1 Axes>"
      ]
     },
     "metadata": {
      "needs_background": "light"
     },
     "output_type": "display_data"
    }
   ],
   "source": [
    "sns.distplot(df['longitude_of_pickup'])"
   ]
  },
  {
   "cell_type": "code",
   "execution_count": 24,
   "id": "9b777b14",
   "metadata": {},
   "outputs": [
    {
     "data": {
      "text/plain": [
       "<AxesSubplot:xlabel='latitude_of_pickup', ylabel='Density'>"
      ]
     },
     "execution_count": 24,
     "metadata": {},
     "output_type": "execute_result"
    },
    {
     "data": {
      "image/png": "[encoded data removed]",
      "text/plain": [
       "<Figure size 432x288 with 1 Axes>"
      ]
     },
     "metadata": {
      "needs_background": "light"
     },
     "output_type": "display_data"
    }
   ],
   "source": [
    "sns.distplot(df['latitude_of_pickup'])"
   ]
  },
  {
   "cell_type": "code",
   "execution_count": 25,
   "id": "92bdcd52",
   "metadata": {},
   "outputs": [
    {
     "data": {
      "text/plain": [
       "0    6.5\n",
       "dtype: float64"
      ]
     },
     "execution_count": 25,
     "metadata": {},
     "output_type": "execute_result"
    }
   ],
   "source": [
    "df['amount'].mode()"
   ]
  },
  {
   "cell_type": "markdown",
   "id": "61a3d66c",
   "metadata": {},
   "source": [
    "#### We can see that the amount's mode is 6.5 and most of the latitude and longitude of pickups is approximately around 50 and -75 respectively from the distribution curves. Plugging these into a latitude, longitude locator, we find that the data is taken from somewhere in Eastern North America."
   ]
  },
  {
   "cell_type": "markdown",
   "id": "e91f9b2d",
   "metadata": {},
   "source": [
    "## Processing the Data\n"
   ]
  },
  {
   "cell_type": "code",
   "execution_count": 26,
   "id": "b0b577ec",
   "metadata": {},
   "outputs": [
    {
     "data": {
      "text/html": [
       "<div>\n",
       "<style scoped>\n",
       "    .dataframe tbody tr th:only-of-type {\n",
       "        vertical-align: middle;\n",
       "    }\n",
       "\n",
       "    .dataframe tbody tr th {\n",
       "        vertical-align: top;\n",
       "    }\n",
       "\n",
       "    .dataframe thead th {\n",
       "        text-align: right;\n",
       "    }\n",
       "</style>\n",
       "<table border=\"1\" class=\"dataframe\">\n",
       "  <thead>\n",
       "    <tr style=\"text-align: right;\">\n",
       "      <th></th>\n",
       "      <th>amount</th>\n",
       "      <th>date_time_of_pickup</th>\n",
       "      <th>longitude_of_pickup</th>\n",
       "      <th>latitude_of_pickup</th>\n",
       "      <th>longitude_of_dropoff</th>\n",
       "      <th>latitude_of_dropoff</th>\n",
       "      <th>no_of_passenger</th>\n",
       "    </tr>\n",
       "  </thead>\n",
       "  <tbody>\n",
       "    <tr>\n",
       "      <th>35403</th>\n",
       "      <td>10.6</td>\n",
       "      <td>2009-03-28 20:06:06 UTC</td>\n",
       "      <td>-74.003841</td>\n",
       "      <td>40.749412</td>\n",
       "      <td>-73.993107</td>\n",
       "      <td>40.752053</td>\n",
       "      <td>2</td>\n",
       "    </tr>\n",
       "    <tr>\n",
       "      <th>35413</th>\n",
       "      <td>17.7</td>\n",
       "      <td>2009-04-15 07:48:00 UTC</td>\n",
       "      <td>-74.008888</td>\n",
       "      <td>40.713750</td>\n",
       "      <td>-73.990920</td>\n",
       "      <td>40.733013</td>\n",
       "      <td>1</td>\n",
       "    </tr>\n",
       "    <tr>\n",
       "      <th>28763</th>\n",
       "      <td>49.8</td>\n",
       "      <td>2011-05-14 20:25:00 UTC</td>\n",
       "      <td>-73.781175</td>\n",
       "      <td>40.644917</td>\n",
       "      <td>-73.957870</td>\n",
       "      <td>40.810977</td>\n",
       "      <td>1</td>\n",
       "    </tr>\n",
       "    <tr>\n",
       "      <th>29807</th>\n",
       "      <td>10.1</td>\n",
       "      <td>2012-01-22 19:52:00 UTC</td>\n",
       "      <td>-73.975370</td>\n",
       "      <td>40.750397</td>\n",
       "      <td>-73.944240</td>\n",
       "      <td>40.783907</td>\n",
       "      <td>1</td>\n",
       "    </tr>\n",
       "    <tr>\n",
       "      <th>47763</th>\n",
       "      <td>12.0</td>\n",
       "      <td>2014-10-16 19:32:00 UTC</td>\n",
       "      <td>-73.991220</td>\n",
       "      <td>40.750202</td>\n",
       "      <td>-73.973113</td>\n",
       "      <td>40.755985</td>\n",
       "      <td>1</td>\n",
       "    </tr>\n",
       "    <tr>\n",
       "      <th>16831</th>\n",
       "      <td>9.7</td>\n",
       "      <td>2012-02-04 19:19:08 UTC</td>\n",
       "      <td>-73.979690</td>\n",
       "      <td>40.735688</td>\n",
       "      <td>-74.005683</td>\n",
       "      <td>40.740268</td>\n",
       "      <td>1</td>\n",
       "    </tr>\n",
       "    <tr>\n",
       "      <th>16349</th>\n",
       "      <td>5.5</td>\n",
       "      <td>2014-01-30 00:47:07 UTC</td>\n",
       "      <td>-73.985772</td>\n",
       "      <td>40.727126</td>\n",
       "      <td>-73.973746</td>\n",
       "      <td>40.743660</td>\n",
       "      <td>1</td>\n",
       "    </tr>\n",
       "    <tr>\n",
       "      <th>39253</th>\n",
       "      <td>10.5</td>\n",
       "      <td>2014-02-18 19:12:02 UTC</td>\n",
       "      <td>-73.996927</td>\n",
       "      <td>40.725785</td>\n",
       "      <td>-73.985483</td>\n",
       "      <td>40.747223</td>\n",
       "      <td>2</td>\n",
       "    </tr>\n",
       "    <tr>\n",
       "      <th>35093</th>\n",
       "      <td>16.0</td>\n",
       "      <td>2012-11-03 15:11:59 UTC</td>\n",
       "      <td>-73.989577</td>\n",
       "      <td>40.735840</td>\n",
       "      <td>-73.964165</td>\n",
       "      <td>40.719525</td>\n",
       "      <td>1</td>\n",
       "    </tr>\n",
       "    <tr>\n",
       "      <th>24765</th>\n",
       "      <td>8.5</td>\n",
       "      <td>2013-04-27 19:19:00 UTC</td>\n",
       "      <td>-73.986447</td>\n",
       "      <td>40.718180</td>\n",
       "      <td>-73.994575</td>\n",
       "      <td>40.731797</td>\n",
       "      <td>1</td>\n",
       "    </tr>\n",
       "  </tbody>\n",
       "</table>\n",
       "</div>"
      ],
      "text/plain": [
       "       amount      date_time_of_pickup  longitude_of_pickup  \\\n",
       "35403    10.6  2009-03-28 20:06:06 UTC           -74.003841   \n",
       "35413    17.7  2009-04-15 07:48:00 UTC           -74.008888   \n",
       "28763    49.8  2011-05-14 20:25:00 UTC           -73.781175   \n",
       "29807    10.1  2012-01-22 19:52:00 UTC           -73.975370   \n",
       "47763    12.0  2014-10-16 19:32:00 UTC           -73.991220   \n",
       "16831     9.7  2012-02-04 19:19:08 UTC           -73.979690   \n",
       "16349     5.5  2014-01-30 00:47:07 UTC           -73.985772   \n",
       "39253    10.5  2014-02-18 19:12:02 UTC           -73.996927   \n",
       "35093    16.0  2012-11-03 15:11:59 UTC           -73.989577   \n",
       "24765     8.5  2013-04-27 19:19:00 UTC           -73.986447   \n",
       "\n",
       "       latitude_of_pickup  longitude_of_dropoff  latitude_of_dropoff  \\\n",
       "35403           40.749412            -73.993107            40.752053   \n",
       "35413           40.713750            -73.990920            40.733013   \n",
       "28763           40.644917            -73.957870            40.810977   \n",
       "29807           40.750397            -73.944240            40.783907   \n",
       "47763           40.750202            -73.973113            40.755985   \n",
       "16831           40.735688            -74.005683            40.740268   \n",
       "16349           40.727126            -73.973746            40.743660   \n",
       "39253           40.725785            -73.985483            40.747223   \n",
       "35093           40.735840            -73.964165            40.719525   \n",
       "24765           40.718180            -73.994575            40.731797   \n",
       "\n",
       "       no_of_passenger  \n",
       "35403                2  \n",
       "35413                1  \n",
       "28763                1  \n",
       "29807                1  \n",
       "47763                1  \n",
       "16831                1  \n",
       "16349                1  \n",
       "39253                2  \n",
       "35093                1  \n",
       "24765                1  "
      ]
     },
     "execution_count": 26,
     "metadata": {},
     "output_type": "execute_result"
    }
   ],
   "source": [
    "df = df.drop('unique_id', axis = 1)\n",
    "df.sample(10)"
   ]
  },
  {
   "cell_type": "markdown",
   "id": "f69c0dcf",
   "metadata": {},
   "source": [
    "## Regression"
   ]
  },
  {
   "cell_type": "code",
   "execution_count": 27,
   "id": "e4c9b99b",
   "metadata": {},
   "outputs": [],
   "source": [
    "### Negelecting the date and time of pickup:\n",
    "\n",
    "X = df.drop(['date_time_of_pickup', 'amount'], axis = 1)\n",
    "y = df['amount']\n",
    "\n",
    "X_train, X_test, y_train, y_test = train_test_split(X, y, test_size = 0.30, random_state = 1)"
   ]
  },
  {
   "cell_type": "code",
   "execution_count": 40,
   "id": "38c248c9",
   "metadata": {},
   "outputs": [
    {
     "name": "stdout",
     "output_type": "stream",
     "text": [
      "0.0006109610599230875\n",
      "-0.0008268147965095896\n"
     ]
    }
   ],
   "source": [
    "model1 = LinearRegression(normalize = True)\n",
    "model1.fit(X_train, y_train)\n",
    "\n",
    "print(model1.score(X_train, y_train))\n",
    "print(model1.score(X_test, y_test))\n"
   ]
  },
  {
   "cell_type": "code",
   "execution_count": 29,
   "id": "e4a0c191",
   "metadata": {},
   "outputs": [
    {
     "data": {
      "text/html": [
       "<div>\n",
       "<style scoped>\n",
       "    .dataframe tbody tr th:only-of-type {\n",
       "        vertical-align: middle;\n",
       "    }\n",
       "\n",
       "    .dataframe tbody tr th {\n",
       "        vertical-align: top;\n",
       "    }\n",
       "\n",
       "    .dataframe thead th {\n",
       "        text-align: right;\n",
       "    }\n",
       "</style>\n",
       "<table border=\"1\" class=\"dataframe\">\n",
       "  <thead>\n",
       "    <tr style=\"text-align: right;\">\n",
       "      <th></th>\n",
       "      <th>longitude_of_pickup</th>\n",
       "      <th>latitude_of_pickup</th>\n",
       "      <th>longitude_of_dropoff</th>\n",
       "      <th>latitude_of_dropoff</th>\n",
       "      <th>no_of_passenger</th>\n",
       "    </tr>\n",
       "  </thead>\n",
       "  <tbody>\n",
       "    <tr>\n",
       "      <th>0</th>\n",
       "      <td>-73.844311</td>\n",
       "      <td>40.721319</td>\n",
       "      <td>-73.841610</td>\n",
       "      <td>40.712278</td>\n",
       "      <td>1</td>\n",
       "    </tr>\n",
       "    <tr>\n",
       "      <th>1</th>\n",
       "      <td>-74.016048</td>\n",
       "      <td>40.711303</td>\n",
       "      <td>-73.979268</td>\n",
       "      <td>40.782004</td>\n",
       "      <td>1</td>\n",
       "    </tr>\n",
       "    <tr>\n",
       "      <th>2</th>\n",
       "      <td>-73.982738</td>\n",
       "      <td>40.761270</td>\n",
       "      <td>-73.991242</td>\n",
       "      <td>40.750562</td>\n",
       "      <td>2</td>\n",
       "    </tr>\n",
       "    <tr>\n",
       "      <th>3</th>\n",
       "      <td>-73.987130</td>\n",
       "      <td>40.733143</td>\n",
       "      <td>-73.991567</td>\n",
       "      <td>40.758092</td>\n",
       "      <td>1</td>\n",
       "    </tr>\n",
       "    <tr>\n",
       "      <th>4</th>\n",
       "      <td>-73.968095</td>\n",
       "      <td>40.768008</td>\n",
       "      <td>-73.956655</td>\n",
       "      <td>40.783762</td>\n",
       "      <td>1</td>\n",
       "    </tr>\n",
       "    <tr>\n",
       "      <th>5</th>\n",
       "      <td>-74.000964</td>\n",
       "      <td>40.731630</td>\n",
       "      <td>-73.972892</td>\n",
       "      <td>40.758233</td>\n",
       "      <td>1</td>\n",
       "    </tr>\n",
       "    <tr>\n",
       "      <th>6</th>\n",
       "      <td>-73.980002</td>\n",
       "      <td>40.751662</td>\n",
       "      <td>-73.973802</td>\n",
       "      <td>40.764842</td>\n",
       "      <td>1</td>\n",
       "    </tr>\n",
       "    <tr>\n",
       "      <th>7</th>\n",
       "      <td>-73.951300</td>\n",
       "      <td>40.774138</td>\n",
       "      <td>-73.990095</td>\n",
       "      <td>40.751048</td>\n",
       "      <td>1</td>\n",
       "    </tr>\n",
       "    <tr>\n",
       "      <th>8</th>\n",
       "      <td>-74.006462</td>\n",
       "      <td>40.726713</td>\n",
       "      <td>-73.993078</td>\n",
       "      <td>40.731628</td>\n",
       "      <td>1</td>\n",
       "    </tr>\n",
       "    <tr>\n",
       "      <th>9</th>\n",
       "      <td>-73.980658</td>\n",
       "      <td>40.733873</td>\n",
       "      <td>-73.991540</td>\n",
       "      <td>40.758138</td>\n",
       "      <td>2</td>\n",
       "    </tr>\n",
       "  </tbody>\n",
       "</table>\n",
       "</div>"
      ],
      "text/plain": [
       "   longitude_of_pickup  latitude_of_pickup  longitude_of_dropoff  \\\n",
       "0           -73.844311           40.721319            -73.841610   \n",
       "1           -74.016048           40.711303            -73.979268   \n",
       "2           -73.982738           40.761270            -73.991242   \n",
       "3           -73.987130           40.733143            -73.991567   \n",
       "4           -73.968095           40.768008            -73.956655   \n",
       "5           -74.000964           40.731630            -73.972892   \n",
       "6           -73.980002           40.751662            -73.973802   \n",
       "7           -73.951300           40.774138            -73.990095   \n",
       "8           -74.006462           40.726713            -73.993078   \n",
       "9           -73.980658           40.733873            -73.991540   \n",
       "\n",
       "   latitude_of_dropoff  no_of_passenger  \n",
       "0            40.712278                1  \n",
       "1            40.782004                1  \n",
       "2            40.750562                2  \n",
       "3            40.758092                1  \n",
       "4            40.783762                1  \n",
       "5            40.758233                1  \n",
       "6            40.764842                1  \n",
       "7            40.751048                1  \n",
       "8            40.731628                1  \n",
       "9            40.758138                2  "
      ]
     },
     "execution_count": 29,
     "metadata": {},
     "output_type": "execute_result"
    }
   ],
   "source": [
    "X.head(10)"
   ]
  },
  {
   "cell_type": "code",
   "execution_count": 30,
   "id": "7f5a3af6",
   "metadata": {},
   "outputs": [
    {
     "data": {
      "text/plain": [
       "0     4.5\n",
       "1    16.9\n",
       "2     5.7\n",
       "3     7.7\n",
       "4     5.3\n",
       "5    12.1\n",
       "6     7.5\n",
       "7    16.5\n",
       "8     9.0\n",
       "9     8.9\n",
       "Name: amount, dtype: float64"
      ]
     },
     "execution_count": 30,
     "metadata": {},
     "output_type": "execute_result"
    }
   ],
   "source": [
    "y.head(10)"
   ]
  },
  {
   "cell_type": "code",
   "execution_count": 42,
   "id": "d50f1d8c",
   "metadata": {},
   "outputs": [
    {
     "name": "stdout",
     "output_type": "stream",
     "text": [
      "0.7994035905924861\n",
      "0.6165246564551831\n"
     ]
    }
   ],
   "source": [
    "model2 = DecisionTreeRegressor(max_depth = 12, criterion = 'mse', random_state = 1)\n",
    "model2.fit(X_train, y_train)\n",
    "\n",
    "print(model2.score(X_train, y_train))\n",
    "print(model2.score(X_test, y_test))"
   ]
  },
  {
   "cell_type": "code",
   "execution_count": 32,
   "id": "275346f7",
   "metadata": {},
   "outputs": [
    {
     "name": "stdout",
     "output_type": "stream",
     "text": [
      "0.7907196201161039\n",
      "0.6841413118260382\n"
     ]
    }
   ],
   "source": [
    "model3 = BaggingRegressor(base_estimator = model2, n_estimators = 6, random_state = 1)\n",
    "model3.fit(X_train, y_train)\n",
    "\n",
    "print(model3.score(X_train, y_train))\n",
    "print(model3.score(X_test, y_test))"
   ]
  },
  {
   "cell_type": "code",
   "execution_count": 33,
   "id": "da20d359",
   "metadata": {},
   "outputs": [
    {
     "name": "stdout",
     "output_type": "stream",
     "text": [
      "0.8030985923500351\n",
      "0.638240897064058\n"
     ]
    }
   ],
   "source": [
    "model4 = AdaBoostRegressor(n_estimators = 12, base_estimator = model2, learning_rate = 0.1, random_state = 1)\n",
    "model4.fit(X_train, y_train)\n",
    "print(model4.score(X_train, y_train))\n",
    "print(model4.score(X_test, y_test))\n",
    "\n",
    "### Note taking model3 here gives a better output but takes more time."
   ]
  },
  {
   "cell_type": "code",
   "execution_count": 34,
   "id": "b515a403",
   "metadata": {},
   "outputs": [
    {
     "name": "stdout",
     "output_type": "stream",
     "text": [
      "0.78649394317382\n",
      "0.6700528130666831\n"
     ]
    }
   ],
   "source": [
    "model5 = GradientBoostingRegressor(n_estimators = 40, learning_rate = 1)\n",
    "model5.fit(X_train, y_train)\n",
    "print(model5.score(X_train, y_train))\n",
    "print(model5.score(X_test, y_test))"
   ]
  },
  {
   "cell_type": "code",
   "execution_count": 35,
   "id": "9e408d60",
   "metadata": {},
   "outputs": [
    {
     "name": "stdout",
     "output_type": "stream",
     "text": [
      "0.9356608308317105\n",
      "0.7313383458820417\n"
     ]
    }
   ],
   "source": [
    "model6 = RandomForestRegressor(n_estimators = 15, max_features = 5, random_state = 1)\n",
    "model6.fit(X_train, y_train)\n",
    "print(model6.score(X_train, y_train))\n",
    "print(model6.score(X_test, y_test))"
   ]
  },
  {
   "cell_type": "markdown",
   "id": "2dc65c57",
   "metadata": {},
   "source": [
    "#### The SVR Model takes a significant amount of time, hence it has not been implemented due to its inefficiency."
   ]
  },
  {
   "cell_type": "markdown",
   "id": "cb475ad7",
   "metadata": {},
   "source": [
    "#### The best model for this case whereby the date and time were neglected seems to be Bagging Regressor with base estimator being a decision tree, number of estimators being 12,  learning rate of 0.1. It avoids overfitting and gives the best test score among the non-overfitted models. Random Forest Regressor also seems to be a compelling model as the train score is above 0.90 and the test score is the highest too. But there might be a chance of overfitting, as the difference in the scores is over 0.20"
   ]
  },
  {
   "cell_type": "code",
   "execution_count": null,
   "id": "012f72b3",
   "metadata": {},
   "outputs": [],
   "source": []
  }
 ],
 "metadata": {
  "kernelspec": {
   "display_name": "Python 3 (ipykernel)",
   "language": "python",
   "name": "python3"
  },
  "language_info": {
   "codemirror_mode": {
    "name": "ipython",
    "version": 3
   },
   "file_extension": ".py",
   "mimetype": "text/x-python",
   "name": "python",
   "nbconvert_exporter": "python",
   "pygments_lexer": "ipython3",
   "version": "3.8.8"
  }
 },
 "nbformat": 4,
 "nbformat_minor": 5
}
